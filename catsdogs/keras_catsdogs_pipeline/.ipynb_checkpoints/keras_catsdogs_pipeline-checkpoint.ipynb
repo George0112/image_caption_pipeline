{
 "cells": [
  {
   "cell_type": "code",
   "execution_count": null,
   "metadata": {},
   "outputs": [],
   "source": [
    "import kfp.dsl as dsl\n",
    "import yaml\n",
    "from kubernetes import client as k8s"
   ]
  },
  {
   "cell_type": "code",
   "execution_count": null,
   "metadata": {},
   "outputs": [],
   "source": [
    "@dsl.pipeline(\n",
    "  name='Keras Cats and Dogs',\n",
    "  description='A pipeline demonstrating reproducible steps for image caption'\n",
    ")\n",
    "def Keras_cats_and_dogs_pipeline(\n",
    "        size_of_pvc=\"5Gi\",\n",
    "        zip_url = \"https://cloudprog-hw3-108065518.s3.amazonaws.com/sample.zip\",\n",
    "#         images_path=\"/mnt/ms-coco/train2014/train2014\",\n",
    "#         annotation_path=\"/mnt/ms-coco/annotations_trainval2014/annotations/captions_train2014.json\",\n",
    "#         preprocessing_batch_size=8,\n",
    "#         num_examples=30000,\n",
    "        epochs=10,\n",
    "#         training_batch_size=16,\n",
    "#         hidden_state_size=512,\n",
    "#         vocab_size=5000,\n",
    "#         embedding_dim=256,\n",
    "#         max_length=50\n",
    "    ):\n",
    "    \"\"\"\n",
    "    Pipeline \n",
    "    \"\"\"\n",
    "    vop = dsl.VolumeOp(\n",
    "      name='my-pvc',\n",
    "      resource_name=\"my-pvc\",\n",
    "      modes=[\"ReadWriteMany\"],\n",
    "      size=size_of_pvc\n",
    "    )\n",
    "\n",
    "    training_step = dsl.ContainerOp(\n",
    "        name='training',\n",
    "        image='chaowen/keras_catsdogs:latest',\n",
    "        command=\"python\",\n",
    "        arguments=[\n",
    "            \"train_inceptionresnetv2.py\",\n",
    "            \"--zip-url\", zip_url,\n",
    "            \"--epoch\", epochs\n",
    "        ],\n",
    "        pvolumes={\"/mnt\": vop.volume}\n",
    "    ).daemon(true)\n",
    "    \n",
    "    seldon_config = yaml.load(open(\"./seldon_production_pipeline.yaml\"))\n",
    "\n",
    "    deploy_step = dsl.ResourceOp(\n",
    "        name=\"seldondeploy\",\n",
    "        k8s_resource=seldon_config,\n",
    "        attribute_outputs={\"name\": \"{.metadata.name}\"},\n",
    "        pvolumes={\"/mnt\": vop.volume}\n",
    "    )\n",
    "\n",
    "    deploy_step.after(training_step)\n",
    "    \n",
    "    training_step.container.image_pull_policy = \"Always\"\n",
    "    \n",
    "    pass\n",
    "\n",
    "if __name__ == '__main__':\n",
    "  import kfp.compiler as compiler\n",
    "  compiler.Compiler().compile(Keras_cats_and_dogs_pipeline, 'Keras_catsdogs.tar.gz')"
   ]
  },
  {
   "cell_type": "code",
   "execution_count": null,
   "metadata": {},
   "outputs": [],
   "source": []
  },
  {
   "cell_type": "code",
   "execution_count": null,
   "metadata": {},
   "outputs": [],
   "source": []
  }
 ],
 "metadata": {
  "kernelspec": {
   "display_name": "Python 3",
   "language": "python",
   "name": "python3"
  },
  "language_info": {
   "codemirror_mode": {
    "name": "ipython",
    "version": 3
   },
   "file_extension": ".py",
   "mimetype": "text/x-python",
   "name": "python",
   "nbconvert_exporter": "python",
   "pygments_lexer": "ipython3",
   "version": "3.6.9"
  }
 },
 "nbformat": 4,
 "nbformat_minor": 4
}
